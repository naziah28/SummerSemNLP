{
 "cells": [
  {
   "cell_type": "code",
   "execution_count": 1,
   "metadata": {},
   "outputs": [],
   "source": [
    "import pandas as pd \n",
    "import json\n",
    "import gzip\n",
    "import shutil\n",
    "import glob \n",
    "from langdetect import detect "
   ]
  },
  {
   "cell_type": "code",
   "execution_count": 2,
   "metadata": {},
   "outputs": [],
   "source": [
    "train_files = sorted(glob.glob(\"data/papers/s2-corpus-*.gz\"))"
   ]
  },
  {
   "cell_type": "code",
   "execution_count": 17,
   "metadata": {},
   "outputs": [
    {
     "name": "stdout",
     "output_type": "stream",
     "text": [
      "data/papers/s2-corpus-002.gz\n",
      "<gzip _io.BufferedReader name='data/papers/s2-corpus-002.gz' 0x1182671d0>\n",
      "read in 996168 entities\n"
     ]
    }
   ],
   "source": [
    "import pandas as pd \n",
    "import json\n",
    "import gzip\n",
    "import shutil\n",
    "import glob \n",
    "\n",
    "train_files = sorted(glob.glob(\"data/papers/s2-corpus-*.gz\"))\n",
    "\n",
    "lines = []\n",
    "# Load dataframe for all papers \n",
    "for filepath in train_files[:1]:\n",
    "    print(filepath)\n",
    "    with gzip.open(filepath, 'rb') as f_in:\n",
    "        print(f_in)\n",
    "\n",
    "        # unzip, but not necessary \n",
    "        # with open(filepath.strip('.gz'), 'wb') as f_out:\n",
    "        #     shutil.copyfileobj(f_in, f_out)\n",
    "\n",
    "        for cnt, line in enumerate(f_in):\n",
    "            try: \n",
    "                lines.append(json.loads(line))\n",
    "            except: # any line errors \n",
    "                pass \n",
    "\n",
    "print('read in {} entities'.format(len(lines)))"
   ]
  },
  {
   "cell_type": "code",
   "execution_count": 70,
   "metadata": {},
   "outputs": [],
   "source": [
    "# train_df = pd.DataFrame.from_dict(lines)"
   ]
  },
  {
   "cell_type": "code",
   "execution_count": 74,
   "metadata": {},
   "outputs": [],
   "source": [
    "df = train_df.head(20)"
   ]
  },
  {
   "cell_type": "code",
   "execution_count": 78,
   "metadata": {},
   "outputs": [],
   "source": [
    "# Filter out non-english titles (and therefore abstracts)\n",
    "df = df[[detect(i) =='en' for i in df.title]]"
   ]
  },
  {
   "cell_type": "code",
   "execution_count": null,
   "metadata": {},
   "outputs": [],
   "source": []
  },
  {
   "cell_type": "code",
   "execution_count": 41,
   "metadata": {},
   "outputs": [],
   "source": [
    "# # Can use improving, \n",
    "# # but filters by assuming that if > 50% of the title chars are nonEnglish, \n",
    "# # then the paper is not in english\n",
    "# def isEnglish(s):    \n",
    "#     non_eng = 0\n",
    "#     for i in s:         \n",
    "#         try:\n",
    "#             i.encode(encoding='utf-8').decode('ascii')\n",
    "#         except UnicodeDecodeError:\n",
    "#             non_eng += 1 \n",
    "#     if non_eng/len(s) > 0.5: \n",
    "#         return False\n",
    "#     return True"
   ]
  },
  {
   "cell_type": "code",
   "execution_count": 122,
   "metadata": {},
   "outputs": [],
   "source": [
    "def save_authors_df(dataframe, outdir):\n",
    "    df = dataframe\n",
    "    authors = []\n",
    "    for i in df.authors:\n",
    "        authors.extend(i)\n",
    "        \n",
    "    author_df = pd.DataFrame.from_dict(authors)\n",
    "    \n",
    "    author_df = author_df.dropna(subset=['ids'])\n",
    "    author_df.ids = author_df.ids.str[0]\n",
    "    \n",
    "    author_df = author_df.dropna() # probably unnecessary \n",
    "    author_df.ids.iloc[:] = author_df.ids.astype(int)\n",
    "    \n",
    "    author_df.to_csv(outdir)"
   ]
  },
  {
   "cell_type": "code",
   "execution_count": 114,
   "metadata": {},
   "outputs": [],
   "source": [
    "author_df = pd.DataFrame.from_dict(authors)"
   ]
  },
  {
   "cell_type": "code",
   "execution_count": 115,
   "metadata": {},
   "outputs": [],
   "source": [
    "author_df = author_df.dropna(subset=['ids'])\n",
    "author_df.ids = author_df.ids.str[0]\n",
    "\n"
   ]
  },
  {
   "cell_type": "code",
   "execution_count": 123,
   "metadata": {},
   "outputs": [],
   "source": [
    "save_authors_df(df, 'data/papers/authors.csv')"
   ]
  },
  {
   "cell_type": "code",
   "execution_count": 117,
   "metadata": {},
   "outputs": [
    {
     "data": {
      "text/plain": [
       "(50, 2)"
      ]
     },
     "execution_count": 117,
     "metadata": {},
     "output_type": "execute_result"
    }
   ],
   "source": [
    "author_df.shape"
   ]
  },
  {
   "cell_type": "code",
   "execution_count": 118,
   "metadata": {},
   "outputs": [],
   "source": [
    "author_df = author_df.dropna()"
   ]
  },
  {
   "cell_type": "code",
   "execution_count": 119,
   "metadata": {},
   "outputs": [],
   "source": [
    "author_df.ids.iloc[:] = author_df.ids.astype(int)"
   ]
  },
  {
   "cell_type": "code",
   "execution_count": 120,
   "metadata": {},
   "outputs": [
    {
     "data": {
      "text/html": [
       "<div>\n",
       "<style scoped>\n",
       "    .dataframe tbody tr th:only-of-type {\n",
       "        vertical-align: middle;\n",
       "    }\n",
       "\n",
       "    .dataframe tbody tr th {\n",
       "        vertical-align: top;\n",
       "    }\n",
       "\n",
       "    .dataframe thead th {\n",
       "        text-align: right;\n",
       "    }\n",
       "</style>\n",
       "<table border=\"1\" class=\"dataframe\">\n",
       "  <thead>\n",
       "    <tr style=\"text-align: right;\">\n",
       "      <th></th>\n",
       "      <th>ids</th>\n",
       "      <th>name</th>\n",
       "    </tr>\n",
       "  </thead>\n",
       "  <tbody>\n",
       "    <tr>\n",
       "      <th>0</th>\n",
       "      <td>91488677</td>\n",
       "      <td>Zeno Atherton</td>\n",
       "    </tr>\n",
       "    <tr>\n",
       "      <th>1</th>\n",
       "      <td>92191577</td>\n",
       "      <td>Charlotte Waveney Faulkner</td>\n",
       "    </tr>\n",
       "    <tr>\n",
       "      <th>2</th>\n",
       "      <td>91884879</td>\n",
       "      <td>Scott L. Ingham</td>\n",
       "    </tr>\n",
       "    <tr>\n",
       "      <th>3</th>\n",
       "      <td>39854403</td>\n",
       "      <td>Ashok K. Kakkar</td>\n",
       "    </tr>\n",
       "    <tr>\n",
       "      <th>4</th>\n",
       "      <td>50991275</td>\n",
       "      <td>Muhammad Saif Ullah Khan</td>\n",
       "    </tr>\n",
       "  </tbody>\n",
       "</table>\n",
       "</div>"
      ],
      "text/plain": [
       "        ids                        name\n",
       "0  91488677               Zeno Atherton\n",
       "1  92191577  Charlotte Waveney Faulkner\n",
       "2  91884879             Scott L. Ingham\n",
       "3  39854403             Ashok K. Kakkar\n",
       "4  50991275    Muhammad Saif Ullah Khan"
      ]
     },
     "execution_count": 120,
     "metadata": {},
     "output_type": "execute_result"
    }
   ],
   "source": [
    "author_df.head()"
   ]
  },
  {
   "cell_type": "code",
   "execution_count": 121,
   "metadata": {},
   "outputs": [
    {
     "data": {
      "text/plain": [
       "ids      int64\n",
       "name    object\n",
       "dtype: object"
      ]
     },
     "execution_count": 121,
     "metadata": {},
     "output_type": "execute_result"
    }
   ],
   "source": [
    "author_df.dtypes"
   ]
  },
  {
   "cell_type": "code",
   "execution_count": null,
   "metadata": {},
   "outputs": [],
   "source": []
  }
 ],
 "metadata": {
  "kernelspec": {
   "display_name": "Python 3",
   "language": "python",
   "name": "python3"
  },
  "language_info": {
   "codemirror_mode": {
    "name": "ipython",
    "version": 3
   },
   "file_extension": ".py",
   "mimetype": "text/x-python",
   "name": "python",
   "nbconvert_exporter": "python",
   "pygments_lexer": "ipython3",
   "version": "3.7.2"
  }
 },
 "nbformat": 4,
 "nbformat_minor": 2
}
