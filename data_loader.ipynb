{
 "cells": [
  {
   "cell_type": "code",
   "execution_count": 7,
   "metadata": {},
   "outputs": [],
   "source": [
    "import pandas as pd \n",
    "import json\n",
    "import gzip\n",
    "import shutil\n",
    "import glob \n",
    "from langdetect import detect \n",
    "import numpy as np\n",
    "\n",
    "# Abstract preprocessing \n",
    "# from nltk.stem import PorterStemmer \n",
    "# from nltk.tokenize import word_tokenize \n",
    "# from nltk.stem import WordNetLemmatizer \n",
    "# import gensim\n",
    "\n",
    "# nltk.download('wordnet')\n",
    "\n",
    "def save_and_get_authors_df(dataframe, outdir):\n",
    "    df = dataframe\n",
    "    authors = []\n",
    "    for i in df.authors:\n",
    "        authors.extend(i)\n",
    "        \n",
    "    author_df = pd.DataFrame.from_dict(authors)\n",
    "    \n",
    "    author_df = author_df.dropna(subset=['ids'])\n",
    "    author_df.ids = author_df.ids.str[0]\n",
    "    \n",
    "    author_df = author_df.dropna() # probably unnecessary \n",
    "    author_df.ids.iloc[:] = author_df.ids.astype(int)\n",
    "    \n",
    "    author_df.to_csv(outdir+'authors.csv')\n",
    "    return author_df\n",
    "\n",
    "def get_train_df(dir_path, limit=-1, lang='en'):\n",
    "\ttrain_files = sorted(glob.glob(dir_path+\"s2-corpus-*.gz\"))\n",
    "\tprint(\"Found {} files. Reading {}.\".format(len(train_files), limit))\n",
    "\n",
    "\tlines = []\n",
    "\t# Load dataframe for all papers\n",
    "\tif limit == -1: \n",
    "\t\tlimit = len(train_files)-1  \n",
    "\tfor filepath in train_files[:limit]:\n",
    "\t    print(\"Reading {}\".format(filepath))\n",
    "\t    with gzip.open(filepath, 'rb') as f_in:\n",
    "\t        print(f_in)\n",
    "\n",
    "\t        # unzip, but not necessary \n",
    "\t        # with open(filepath.strip('.gz'), 'wb') as f_out:\n",
    "\t        #     shutil.copyfileobj(f_in, f_out)\n",
    "\n",
    "\t        for cnt, line in enumerate(f_in):\n",
    "\t        \ttry: \n",
    "\t\t            lines.append(json.loads(line))\n",
    "\t\t        except: # any line errors \n",
    "\t\t        \tpass \n",
    "\t        \tif cnt > 100: \n",
    "\t\t        \tbreak\n",
    "\tprint('read in {}. entities'.format(len(lines)))\n",
    "\n",
    "\t# Create dataframe \n",
    "\tprint('Creating training DataFrame')\n",
    "\ttrain_df = pd.DataFrame.from_dict(lines)\n",
    "\n",
    "\t# remove any entities without abstracts\n",
    "\tprint('Removing null abstracts')  \n",
    "\ttrain_df = train_df[train_df.paperAbstract != '']\n",
    "    \n",
    "    # remove null entities \n",
    "#     print('Removing null entities')\n",
    "#     train_df = train_df[train_df.entities != []]\n",
    "\n",
    "\ttrain_df = train_df.head(20)\n",
    "\n",
    "\n",
    "\t# remove any that aren't of language lang:\n",
    "\tprint('Only keeping {} language titles'.format(lang)) \n",
    "\ttrain_df = train_df[[detect(i) =='en' for i in train_df.title]]\n",
    "\n",
    "\tprint('Complete!')\n",
    "\n",
    "\treturn train_df"
   ]
  },
  {
   "cell_type": "code",
   "execution_count": 8,
   "metadata": {},
   "outputs": [
    {
     "name": "stdout",
     "output_type": "stream",
     "text": [
      "Found 41 files. Reading 1.\n",
      "Reading data/papers/s2-corpus-002.gz\n",
      "<gzip _io.BufferedReader name='data/papers/s2-corpus-002.gz' 0x11c293b90>\n",
      "read in 102. entities\n",
      "Creating training DataFrame\n",
      "Removing null abstracts\n",
      "Only keeping en language titles\n",
      "Complete!\n"
     ]
    }
   ],
   "source": [
    "df = get_train_df('data/papers/', limit=1)"
   ]
  },
  {
   "cell_type": "code",
   "execution_count": 9,
   "metadata": {},
   "outputs": [],
   "source": [
    "df[\"entities\"] = [np.nan for d in df['entities'] if d == []]"
   ]
  },
  {
   "cell_type": "code",
   "execution_count": 10,
   "metadata": {},
   "outputs": [
    {
     "data": {
      "text/plain": [
       "1                                                      \n",
       "3                                                      \n",
       "5                                                      \n",
       "7                                                      \n",
       "8                                                      \n",
       "9                                                      \n",
       "10              Prikladnaia biokhimiia i mikrobiologiia\n",
       "13                                                     \n",
       "14                                                     \n",
       "15                                                     \n",
       "19        2017 Global Internet of Things Summit (GIoTS)\n",
       "22                              Problemy endokrinologii\n",
       "23                                     The AAPS Journal\n",
       "28                                                     \n",
       "31    The Journal of pharmacology and experimental t...\n",
       "Name: journalName, dtype: object"
      ]
     },
     "execution_count": 10,
     "metadata": {},
     "output_type": "execute_result"
    }
   ],
   "source": [
    "df.journalName"
   ]
  },
  {
   "cell_type": "code",
   "execution_count": 11,
   "metadata": {},
   "outputs": [],
   "source": [
    "df = df[['entities', 'id', 'authors','paperAbstract','title']]"
   ]
  },
  {
   "cell_type": "code",
   "execution_count": 12,
   "metadata": {},
   "outputs": [],
   "source": [
    "df['entities'] = [['b', 'a'] for d in df['entities']]"
   ]
  },
  {
   "cell_type": "code",
   "execution_count": 13,
   "metadata": {},
   "outputs": [],
   "source": [
    "def save_fast_text_format(df, filename):\n",
    "    \"\"\" Convert pandas data into fasttext friendly for training\"\"\"\n",
    "    \n",
    "    df['entities'] = [[\"__label__{}\".format(label) for label in d] for d in df['entities']]\n",
    "    df['entities'] = [\" \".join(d) for d in df['entities']]\n",
    "    df['ft'] =  df['entities'] + [' ' for i in df['entities']] + df['paperAbstract']\n",
    "    \n",
    "    with open(filename, 'w') as f:\n",
    "        for item in list(df['ft'].values):\n",
    "            f.write(\"%s\\n\" % item)    "
   ]
  },
  {
   "cell_type": "code",
   "execution_count": 16,
   "metadata": {},
   "outputs": [],
   "source": [
    "save_fast_text_format(df, 'fast_text.txt')"
   ]
  },
  {
   "cell_type": "code",
   "execution_count": 17,
   "metadata": {},
   "outputs": [],
   "source": [
    "# d.to_csv('save2.csv', index=False, columns=['ft'], header=False, mode='a')\n",
    "#df.to_csv(r'c:\\data\\pandas.txt', header=None, index=None, sep=' ', mode='a')\n"
   ]
  },
  {
   "cell_type": "code",
   "execution_count": 19,
   "metadata": {},
   "outputs": [],
   "source": [
    "df.to_csv('sample_data.csv')"
   ]
  },
  {
   "cell_type": "code",
   "execution_count": 21,
   "metadata": {},
   "outputs": [
    {
     "name": "stdout",
     "output_type": "stream",
     "text": [
      "/Users/naziahsiddique/Documents/assessment/2019/Summer\r\n"
     ]
    }
   ],
   "source": [
    "! pwd "
   ]
  },
  {
   "cell_type": "code",
   "execution_count": 220,
   "metadata": {},
   "outputs": [],
   "source": [
    "with open('your_file.txt', 'w') as f:\n",
    "    for item in y:\n",
    "        f.write(\"%s\\n\" % item)"
   ]
  },
  {
   "cell_type": "code",
   "execution_count": null,
   "metadata": {},
   "outputs": [],
   "source": [
    "df"
   ]
  },
  {
   "cell_type": "code",
   "execution_count": 63,
   "metadata": {},
   "outputs": [],
   "source": []
  },
  {
   "cell_type": "code",
   "execution_count": 47,
   "metadata": {},
   "outputs": [
    {
     "ename": "ModuleNotFoundError",
     "evalue": "No module named 'stemmer'",
     "output_type": "error",
     "traceback": [
      "\u001b[0;31m---------------------------------------------------------------------------\u001b[0m",
      "\u001b[0;31mModuleNotFoundError\u001b[0m                       Traceback (most recent call last)",
      "\u001b[0;32m<ipython-input-47-23104a1cb70c>\u001b[0m in \u001b[0;36m<module>\u001b[0;34m\u001b[0m\n\u001b[0;32m----> 1\u001b[0;31m \u001b[0;32mimport\u001b[0m \u001b[0mstemmer\u001b[0m\u001b[0;34m\u001b[0m\u001b[0;34m\u001b[0m\u001b[0m\n\u001b[0m",
      "\u001b[0;31mModuleNotFoundError\u001b[0m: No module named 'stemmer'"
     ]
    }
   ],
   "source": [
    "import stemmer\n",
    "from nltk.stem import PorterStemmer \n",
    "from nltk.tokenize import word_tokenize \n",
    "from nltk.stem import WordNetLemmatizer \n",
    "import gensim\n",
    "   \n",
    "\n",
    "def lemmatize_stemming(text):\n",
    "    return ps.stem(WordNetLemmatizer().lemmatize(text, pos='v'))\n",
    "\n",
    "# Tokenize and lemmatize\n",
    "def preprocess(text):\n",
    "    result=[]\n",
    "    for token in gensim.utils.simple_preprocess(text) :\n",
    "        if token not in gensim.parsing.preprocessing.STOPWORDS and len(token) > 3:\n",
    "            result.append(lemmatize_stemming(token))\n",
    "            \n",
    "    return result\n",
    "\n",
    "\n",
    "ps = PorterStemmer() \n",
    "  \n",
    "# choose some words to be stemmed \n",
    "words = [\"program\", \"programs\", \"programer\", \"programing\", \"programers\"] \n",
    "  \n",
    "for w in words: \n",
    "    print(w, \" : \", ps.stem(w)) \n",
    "    \n",
    "    \n",
    "processed_docs = preprocess(\"Perhaps Skinner was a flamboyant cheerleader , as Leith suggested. His work, however, did have profound effects on educational thought in a number of ways related to the general concept of programmed learning. Attention was focussed first on the objectives of instruction in a general sense (Bloom et al., 1956), and then on the specific objectives of the behavioural objectives movement (Mager, 1962). The idea of mastery learning, popular in the 1930's but failing because of lack of a technology to sustain it (Block, 1971, p.4), was also resurrected as a corollary of programmed instruction, and with it evolved an interest in learning hierarchies and the structure of knowledge (Gagné and Paradise, 1961). These, in turn, have been influential in the development of systems of learning and instruction (Keller, 1968; Bloom, 1968) which have achieved the improvements in standards of learning which Skinner had hoped to bring about by his technological revolution. Here the emphasis has turned from technology in education, with its emphasis on hardware, to the technology of education. The 'Taxonomy of Educational Objectives: Handbook 1: The Cognitive Domain' (1956) arrived at a time when the demand for improvements in the efficiency of education was being made by Skinner and his colleagues. The idea for such a taxonomy came during a meeting of examiners attending the 1948 American Psychological Association Convention. Bloom and thirty three colleagues met over a five year period to discuss their taxonomy, which was then organised and written by a select committee of five members. The taxonomy was to provide a 'theoretical framework which could be used to facilitate communication among examiners.' It is intended to provide for classification of the goals of our educational system. It is expected to be of general help to all teachers, administrators, professional specialists , and research workers who deal with curricular and evaluation problems. It is especially intended to help them discuss these problems with greater precision. (Bloom et al., 1956, p.1) It was hoped that such ambiguous terms as 'really understand', 'internalize knowledge' and 'grasp the core or essence', would be redefined as a set of standard classifications, making exchange of information about curricular development and evaluation more precise. Equally important, the psychological relationships within the taxonomy were seen as forming a basis for psychological investigations to shed light on changes in the learner's behaviour. This aspect of the taxonomy has been pursued in various form\")\n",
    "p = preprocess(\"Abstract A neutron source having an average energy of 0.532 keV has been established using a SbBe source in a polythene moderator and a B 4 C absorber assembly. The source strength ratio of the moderated to the bare source has been accurately measured using a precision long counter and agrees well with the theoretical value obtained by a Monte Carlo code.\")\n",
    "\n",
    "dictionary = gensim.corpora.Dictionary([processed_docs])\n",
    "bow_corpus = [dictionary.doc2bow(doc) for doc in [processed_docs]]\n",
    "\n",
    "lda_model =  gensim.models.LdaMulticore(bow_corpus, \n",
    "                                   num_topics = 8, \n",
    "                                   id2word = dictionary,                                    \n",
    "                                   passes = 10,\n",
    "                                   workers = 2)\n",
    "\n",
    "'''\n",
    "For each topic, we will explore the words occuring in that topic and its relative weight\n",
    "'''\n",
    "for idx, topic in lda_model.print_topics(-1):\n",
    "    print(\"Topic: {} \\nWords: {}\".format(idx, topic ))\n",
    "    print(\"\\n\")\n",
    "    \n",
    "bow_vector = dictionary.doc2bow(preprocess(unseen))\n",
    "\n",
    "for index, score in sorted(lda_model[bow_vector], key=lambda tup: -1*tup[1]):\n",
    "    print(\"Score: {}\\t Topic: {}\".format(score, lda_model.print_topic(index, 5)))"
   ]
  },
  {
   "cell_type": "code",
   "execution_count": 57,
   "metadata": {},
   "outputs": [
    {
     "name": "stdout",
     "output_type": "stream",
     "text": [
      "program  :  program\n",
      "programs  :  program\n",
      "programer  :  program\n",
      "programing  :  program\n",
      "programers  :  program\n"
     ]
    }
   ],
   "source": []
  },
  {
   "cell_type": "code",
   "execution_count": 80,
   "metadata": {},
   "outputs": [
    {
     "name": "stdout",
     "output_type": "stream",
     "text": [
      "Score: 0.8541603684425354\t Topic: 0.031*\"educ\" + 0.031*\"taxonomi\" + 0.026*\"learn\" + 0.021*\"bloom\" + 0.021*\"object\"\n",
      "Score: 0.02083423361182213\t Topic: 0.008*\"taxonomi\" + 0.008*\"educ\" + 0.008*\"technolog\" + 0.008*\"learn\" + 0.008*\"bloom\"\n",
      "Score: 0.02083423361182213\t Topic: 0.008*\"taxonomi\" + 0.008*\"object\" + 0.008*\"learn\" + 0.008*\"educ\" + 0.008*\"technolog\"\n",
      "Score: 0.02083422988653183\t Topic: 0.008*\"educ\" + 0.008*\"learn\" + 0.008*\"taxonomi\" + 0.008*\"bloom\" + 0.008*\"gener\"\n",
      "Score: 0.02083422988653183\t Topic: 0.008*\"taxonomi\" + 0.008*\"educ\" + 0.008*\"learn\" + 0.008*\"technolog\" + 0.008*\"object\"\n",
      "Score: 0.02083422802388668\t Topic: 0.008*\"taxonomi\" + 0.008*\"educ\" + 0.008*\"learn\" + 0.008*\"instruct\" + 0.008*\"object\"\n",
      "Score: 0.02083422616124153\t Topic: 0.008*\"taxonomi\" + 0.008*\"bloom\" + 0.008*\"learn\" + 0.008*\"technolog\" + 0.008*\"educ\"\n",
      "Score: 0.02083422616124153\t Topic: 0.008*\"learn\" + 0.008*\"taxonomi\" + 0.008*\"educ\" + 0.008*\"popular\" + 0.008*\"paradis\"\n"
     ]
    }
   ],
   "source": [
    "bow_vector = dictionary.doc2bow(preprocess(unseen))\n",
    "\n",
    "for index, score in sorted(lda_model[bow_vector], key=lambda tup: -1*tup[1]):\n",
    "    print(\"Score: {}\\t Topic: {}\".format(score, lda_model.print_topic(index, 5)))"
   ]
  },
  {
   "cell_type": "code",
   "execution_count": 79,
   "metadata": {},
   "outputs": [],
   "source": [
    "unseen = (\"__label__b __label__a A selective (inhibitory and stimulatory) effect of metal salts on secondary growth of representatives of 5 genera of actinomycetes and 5 genera of fungi was established. The effect of metal salts on the growth of procaryotes and eucaryotes have both common and specific features. Differences in the biosorption of metals (Mo, Mn, Cu, Zn) by cells of primary and secondary growth were revealed. The possibility of enhancing the sorption capacities of cells in secondary colonies of mycelial microorganisms should be taken into account as selecting cultures for the purification of environment from heavy metals.\")"
   ]
  },
  {
   "cell_type": "code",
   "execution_count": 15,
   "metadata": {},
   "outputs": [
    {
     "data": {
      "text/html": [
       "<div>\n",
       "<style scoped>\n",
       "    .dataframe tbody tr th:only-of-type {\n",
       "        vertical-align: middle;\n",
       "    }\n",
       "\n",
       "    .dataframe tbody tr th {\n",
       "        vertical-align: top;\n",
       "    }\n",
       "\n",
       "    .dataframe thead th {\n",
       "        text-align: right;\n",
       "    }\n",
       "</style>\n",
       "<table border=\"1\" class=\"dataframe\">\n",
       "  <thead>\n",
       "    <tr style=\"text-align: right;\">\n",
       "      <th></th>\n",
       "      <th>entities</th>\n",
       "      <th>id</th>\n",
       "      <th>authors</th>\n",
       "      <th>paperAbstract</th>\n",
       "      <th>title</th>\n",
       "    </tr>\n",
       "  </thead>\n",
       "  <tbody>\n",
       "    <tr>\n",
       "      <th>1</th>\n",
       "      <td>[b, a]</td>\n",
       "      <td>940a0a673ea80522074bd2e37e89b674659d26fd</td>\n",
       "      <td>[{'name': 'Zeno Atherton', 'ids': ['91488677']...</td>\n",
       "      <td>Abstract The synthetic utility of bis(trimethy...</td>\n",
       "      <td>Rigid rod σ-acetylide complexes of iron, ruthe...</td>\n",
       "    </tr>\n",
       "    <tr>\n",
       "      <th>3</th>\n",
       "      <td>[b, a]</td>\n",
       "      <td>a090b5e520ea791acffd57706771bdc0f7ad0428</td>\n",
       "      <td>[]</td>\n",
       "      <td>Perhaps Skinner was a flamboyant cheerleader ,...</td>\n",
       "      <td>Bloom's Taxonomy of Objectives Psychology of L...</td>\n",
       "    </tr>\n",
       "    <tr>\n",
       "      <th>5</th>\n",
       "      <td>[b, a]</td>\n",
       "      <td>2397ef2fcfac4e4a1697e9d29164f2dd022afd73</td>\n",
       "      <td>[{'name': 'Xu Dong', 'ids': ['145688496']}]</td>\n",
       "      <td>Based on the current situation that lots of ed...</td>\n",
       "      <td>Establishment and Significance of Comparative ...</td>\n",
       "    </tr>\n",
       "    <tr>\n",
       "      <th>7</th>\n",
       "      <td>[b, a]</td>\n",
       "      <td>58af723ae93ee59f918c5b1f76f3090fdc47cac8</td>\n",
       "      <td>[{'name': 'Seong Heon Kim', 'ids': ['49899775'...</td>\n",
       "      <td>The gap states of the molybdenum-oxide (MoO x ...</td>\n",
       "      <td>Dark current reduction of small molecule organ...</td>\n",
       "    </tr>\n",
       "    <tr>\n",
       "      <th>8</th>\n",
       "      <td>[b, a]</td>\n",
       "      <td>809c5a7f423502c85cf19386c99800350c728df9</td>\n",
       "      <td>[{'name': 'Maria Hedefalk', 'ids': ['101247739...</td>\n",
       "      <td>The focus of this article is to explore presch...</td>\n",
       "      <td>Teaching for action competence</td>\n",
       "    </tr>\n",
       "    <tr>\n",
       "      <th>9</th>\n",
       "      <td>[b, a]</td>\n",
       "      <td>350ca45195a022835a2f995699da004d4fa1731d</td>\n",
       "      <td>[{'name': 'Sunita Kamboj', 'ids': ['50786328']...</td>\n",
       "      <td>Abstract A neutron source having an average en...</td>\n",
       "      <td>An intermediate energy neutron source</td>\n",
       "    </tr>\n",
       "    <tr>\n",
       "      <th>10</th>\n",
       "      <td>[b, a]</td>\n",
       "      <td>4b50f4617c3e5d38c56ac728374cc522c90bffc4</td>\n",
       "      <td>[{'name': 'N. A. Aitkhozhina', 'ids': ['136775...</td>\n",
       "      <td>A selective (inhibitory and stimulatory) effec...</td>\n",
       "      <td>[The stimulation and inhibition of the seconda...</td>\n",
       "    </tr>\n",
       "    <tr>\n",
       "      <th>13</th>\n",
       "      <td>[b, a]</td>\n",
       "      <td>96ae4a0f5579e29a8ba6b2c677cfeaff8622fec3</td>\n",
       "      <td>[{'name': 'Ganapathy Sambandamurthy', 'ids': [...</td>\n",
       "      <td>Current-voltage (I-V) characteristics of quenc...</td>\n",
       "      <td>Vortex dynamics and upper critical fields in u...</td>\n",
       "    </tr>\n",
       "    <tr>\n",
       "      <th>14</th>\n",
       "      <td>[b, a]</td>\n",
       "      <td>2b4ca23ac7b4b3f6d463d47d089f2c7f38a78dd2</td>\n",
       "      <td>[{'name': 'Julien Cadot', 'ids': ['115193372']...</td>\n",
       "      <td>Cross and Buccola (2004) established that if t...</td>\n",
       "      <td>Cooperative Strategy and Liquidation in the Bo...</td>\n",
       "    </tr>\n",
       "    <tr>\n",
       "      <th>15</th>\n",
       "      <td>[b, a]</td>\n",
       "      <td>bff29a45efcf98749e99462fb7fe7d286abe307c</td>\n",
       "      <td>[{'name': 'Henry M. Wood', 'ids': ['37874609']}]</td>\n",
       "      <td>Since the advent of next-generation sequencing...</td>\n",
       "      <td>Applications of Very Low-Coverage Sequencing i...</td>\n",
       "    </tr>\n",
       "    <tr>\n",
       "      <th>19</th>\n",
       "      <td>[b, a]</td>\n",
       "      <td>6d2f08a851283498948a7c43c420581eaaf401df</td>\n",
       "      <td>[{'name': 'Nikesh Man Shakya', 'ids': ['304136...</td>\n",
       "      <td>In this research, a new Smart Energy Efficient...</td>\n",
       "      <td>SEEOF: Smart energy efficient objective functi...</td>\n",
       "    </tr>\n",
       "    <tr>\n",
       "      <th>22</th>\n",
       "      <td>[b, a]</td>\n",
       "      <td>e5eeeb6593548e8d58d284243f26101925fd4573</td>\n",
       "      <td>[{'name': 'Lilian Geller', 'ids': ['144546756'...</td>\n",
       "      <td>Qualitative disorders of an echopancreatogram ...</td>\n",
       "      <td>[Echostructure of the pancreas. Comparison wit...</td>\n",
       "    </tr>\n",
       "    <tr>\n",
       "      <th>23</th>\n",
       "      <td>[b, a]</td>\n",
       "      <td>9555abd99b68b1a691364716f515d15ca4a94b75</td>\n",
       "      <td>[{'name': 'Maarten A. Mensink', 'ids': ['15307...</td>\n",
       "      <td>ABSTRACTFor sugars to act as successful stabil...</td>\n",
       "      <td>Influence of Miscibility of Protein-Sugar Lyop...</td>\n",
       "    </tr>\n",
       "    <tr>\n",
       "      <th>28</th>\n",
       "      <td>[b, a]</td>\n",
       "      <td>5ad1358ff3d7498817d2f7000433f93837d84f55</td>\n",
       "      <td>[{'name': 'Luis A. Cubillos', 'ids': ['3638834...</td>\n",
       "      <td>Abstract Abundance, biomass, recruitment and f...</td>\n",
       "      <td>Monthly abundance estimation for common sardin...</td>\n",
       "    </tr>\n",
       "    <tr>\n",
       "      <th>31</th>\n",
       "      <td>[b, a]</td>\n",
       "      <td>4ee841edff37b20e15e6867f135fbecae0457ec3</td>\n",
       "      <td>[{'name': 'James W Putney', 'ids': ['5280328']...</td>\n",
       "      <td>The uptake and efflux of nicotine (N methyl- 1...</td>\n",
       "      <td>On the mechanisms of 14C-nicotine distribution...</td>\n",
       "    </tr>\n",
       "  </tbody>\n",
       "</table>\n",
       "</div>"
      ],
      "text/plain": [
       "   entities                                        id  \\\n",
       "1    [b, a]  940a0a673ea80522074bd2e37e89b674659d26fd   \n",
       "3    [b, a]  a090b5e520ea791acffd57706771bdc0f7ad0428   \n",
       "5    [b, a]  2397ef2fcfac4e4a1697e9d29164f2dd022afd73   \n",
       "7    [b, a]  58af723ae93ee59f918c5b1f76f3090fdc47cac8   \n",
       "8    [b, a]  809c5a7f423502c85cf19386c99800350c728df9   \n",
       "9    [b, a]  350ca45195a022835a2f995699da004d4fa1731d   \n",
       "10   [b, a]  4b50f4617c3e5d38c56ac728374cc522c90bffc4   \n",
       "13   [b, a]  96ae4a0f5579e29a8ba6b2c677cfeaff8622fec3   \n",
       "14   [b, a]  2b4ca23ac7b4b3f6d463d47d089f2c7f38a78dd2   \n",
       "15   [b, a]  bff29a45efcf98749e99462fb7fe7d286abe307c   \n",
       "19   [b, a]  6d2f08a851283498948a7c43c420581eaaf401df   \n",
       "22   [b, a]  e5eeeb6593548e8d58d284243f26101925fd4573   \n",
       "23   [b, a]  9555abd99b68b1a691364716f515d15ca4a94b75   \n",
       "28   [b, a]  5ad1358ff3d7498817d2f7000433f93837d84f55   \n",
       "31   [b, a]  4ee841edff37b20e15e6867f135fbecae0457ec3   \n",
       "\n",
       "                                              authors  \\\n",
       "1   [{'name': 'Zeno Atherton', 'ids': ['91488677']...   \n",
       "3                                                  []   \n",
       "5         [{'name': 'Xu Dong', 'ids': ['145688496']}]   \n",
       "7   [{'name': 'Seong Heon Kim', 'ids': ['49899775'...   \n",
       "8   [{'name': 'Maria Hedefalk', 'ids': ['101247739...   \n",
       "9   [{'name': 'Sunita Kamboj', 'ids': ['50786328']...   \n",
       "10  [{'name': 'N. A. Aitkhozhina', 'ids': ['136775...   \n",
       "13  [{'name': 'Ganapathy Sambandamurthy', 'ids': [...   \n",
       "14  [{'name': 'Julien Cadot', 'ids': ['115193372']...   \n",
       "15   [{'name': 'Henry M. Wood', 'ids': ['37874609']}]   \n",
       "19  [{'name': 'Nikesh Man Shakya', 'ids': ['304136...   \n",
       "22  [{'name': 'Lilian Geller', 'ids': ['144546756'...   \n",
       "23  [{'name': 'Maarten A. Mensink', 'ids': ['15307...   \n",
       "28  [{'name': 'Luis A. Cubillos', 'ids': ['3638834...   \n",
       "31  [{'name': 'James W Putney', 'ids': ['5280328']...   \n",
       "\n",
       "                                        paperAbstract  \\\n",
       "1   Abstract The synthetic utility of bis(trimethy...   \n",
       "3   Perhaps Skinner was a flamboyant cheerleader ,...   \n",
       "5   Based on the current situation that lots of ed...   \n",
       "7   The gap states of the molybdenum-oxide (MoO x ...   \n",
       "8   The focus of this article is to explore presch...   \n",
       "9   Abstract A neutron source having an average en...   \n",
       "10  A selective (inhibitory and stimulatory) effec...   \n",
       "13  Current-voltage (I-V) characteristics of quenc...   \n",
       "14  Cross and Buccola (2004) established that if t...   \n",
       "15  Since the advent of next-generation sequencing...   \n",
       "19  In this research, a new Smart Energy Efficient...   \n",
       "22  Qualitative disorders of an echopancreatogram ...   \n",
       "23  ABSTRACTFor sugars to act as successful stabil...   \n",
       "28  Abstract Abundance, biomass, recruitment and f...   \n",
       "31  The uptake and efflux of nicotine (N methyl- 1...   \n",
       "\n",
       "                                                title  \n",
       "1   Rigid rod σ-acetylide complexes of iron, ruthe...  \n",
       "3   Bloom's Taxonomy of Objectives Psychology of L...  \n",
       "5   Establishment and Significance of Comparative ...  \n",
       "7   Dark current reduction of small molecule organ...  \n",
       "8                      Teaching for action competence  \n",
       "9               An intermediate energy neutron source  \n",
       "10  [The stimulation and inhibition of the seconda...  \n",
       "13  Vortex dynamics and upper critical fields in u...  \n",
       "14  Cooperative Strategy and Liquidation in the Bo...  \n",
       "15  Applications of Very Low-Coverage Sequencing i...  \n",
       "19  SEEOF: Smart energy efficient objective functi...  \n",
       "22  [Echostructure of the pancreas. Comparison wit...  \n",
       "23  Influence of Miscibility of Protein-Sugar Lyop...  \n",
       "28  Monthly abundance estimation for common sardin...  \n",
       "31  On the mechanisms of 14C-nicotine distribution...  "
      ]
     },
     "execution_count": 15,
     "metadata": {},
     "output_type": "execute_result"
    }
   ],
   "source": [
    "df"
   ]
  },
  {
   "cell_type": "code",
   "execution_count": null,
   "metadata": {},
   "outputs": [],
   "source": []
  }
 ],
 "metadata": {
  "kernelspec": {
   "display_name": "Python 3",
   "language": "python",
   "name": "python3"
  },
  "language_info": {
   "codemirror_mode": {
    "name": "ipython",
    "version": 3
   },
   "file_extension": ".py",
   "mimetype": "text/x-python",
   "name": "python",
   "nbconvert_exporter": "python",
   "pygments_lexer": "ipython3",
   "version": "3.7.4"
  }
 },
 "nbformat": 4,
 "nbformat_minor": 2
}
